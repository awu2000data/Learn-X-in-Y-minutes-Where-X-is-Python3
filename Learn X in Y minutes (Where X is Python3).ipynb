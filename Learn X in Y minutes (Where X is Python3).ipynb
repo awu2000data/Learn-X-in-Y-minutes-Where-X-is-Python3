{
 "cells": [
  {
   "cell_type": "markdown",
   "metadata": {},
   "source": [
    "# Learn X in Y minutes (Where X=python3)\n",
    "**Source:** [Learn X in Y minutes (Where X=python3) — Louie Dinh](https://learnxinyminutes.com/docs/python3/)\n",
    "Table of Contents\n",
    "=================\n",
    "<!--ts-->\n",
    " * [Table of contents](#table-of-contents)\n",
    " * [0. Comments](#0-comments)\n",
    "    * [Single line comments](#single-line-comments)\n",
    "    * [Multi-line comments](#multi-line-comments)\n",
    "<!--te-->\n"
   ]
  },
  {
   "cell_type": "markdown",
   "metadata": {},
   "source": [
    "## 0. Comments\n",
    "### Single line comments\n",
    "```python\n",
    "# Single line comments start with a number symbol.\n",
    "```\n",
    "### Multi-line comments\n",
    "```python\n",
    "\"\"\" \n",
    "Multiline strings can be written\n",
    "using three \"s, and are often used\n",
    "as documentation.\n",
    "\"\"\"\n",
    "```"
   ]
  },
  {
   "cell_type": "code",
   "execution_count": 6,
   "metadata": {},
   "outputs": [],
   "source": [
    "# Single line comments start with a number symbol."
   ]
  },
  {
   "cell_type": "code",
   "execution_count": 7,
   "metadata": {},
   "outputs": [
    {
     "data": {
      "text/plain": [
       "'\\nMultiline strings can be written\\nusing three \"s, and are often used\\nas documentation.\\n'"
      ]
     },
     "execution_count": 7,
     "metadata": {},
     "output_type": "execute_result"
    }
   ],
   "source": [
    "'''\n",
    "Multiline strings can be written\n",
    "using three \"s, and are often used\n",
    "as documentation.\n",
    "'''"
   ]
  },
  {
   "cell_type": "markdown",
   "metadata": {},
   "source": [
    "## 1. Primitive Datatypes and Operators\n",
    "### You have numbers\n",
    "```python\n",
    "3  # => 3\n",
    "```"
   ]
  },
  {
   "cell_type": "code",
   "execution_count": 11,
   "metadata": {},
   "outputs": [
    {
     "name": "stdout",
     "output_type": "stream",
     "text": [
      "3\n"
     ]
    }
   ],
   "source": [
    "print(3)    # => 3"
   ]
  },
  {
   "cell_type": "markdown",
   "metadata": {},
   "source": [
    "### Math is what you would expect\n",
    "```python\n",
    "1 + 1   # => 2\n",
    "8 - 1   # => 7\n",
    "10 * 2  # => 20\n",
    "35 / 5  # => 7.0\n",
    "```"
   ]
  },
  {
   "cell_type": "code",
   "execution_count": 12,
   "metadata": {},
   "outputs": [
    {
     "name": "stdout",
     "output_type": "stream",
     "text": [
      "2\n",
      "7\n",
      "20\n",
      "7.0\n"
     ]
    }
   ],
   "source": [
    "print(1 + 1)     # => 2\n",
    "print(8 - 1)     # => 7\n",
    "print(10 * 2)    # => 20\n",
    "print(35 / 5)    # => 7.0"
   ]
  },
  {
   "cell_type": "markdown",
   "metadata": {},
   "source": [
    "### Result of integer division truncated down both for positive and negative.\n",
    "```python\n",
    "5 // 3       # => 1\n",
    "5.0 // 3.0   # => 1.0 # works on floats too\n",
    "-5 // 3      # => -2\n",
    "-5.0 // 3.0  # => -2.0\n",
    "```"
   ]
  },
  {
   "cell_type": "code",
   "execution_count": 13,
   "metadata": {},
   "outputs": [
    {
     "name": "stdout",
     "output_type": "stream",
     "text": [
      "1\n",
      "1.0\n",
      "-2\n",
      "-2.0\n"
     ]
    }
   ],
   "source": [
    "print(5 // 3)       # => 1\n",
    "print(5.0 // 3.0)   # => 1.0 # works on floats too\n",
    "print(-5 // 3)      # => -2\n",
    "print(-5.0 // 3.0)  # => -2.0"
   ]
  },
  {
   "cell_type": "code",
   "execution_count": null,
   "metadata": {},
   "outputs": [],
   "source": []
  },
  {
   "cell_type": "code",
   "execution_count": null,
   "metadata": {},
   "outputs": [],
   "source": []
  }
 ],
 "metadata": {
  "kernelspec": {
   "display_name": "Python 3",
   "language": "python",
   "name": "python3"
  },
  "language_info": {
   "codemirror_mode": {
    "name": "ipython",
    "version": 3
   },
   "file_extension": ".py",
   "mimetype": "text/x-python",
   "name": "python",
   "nbconvert_exporter": "python",
   "pygments_lexer": "ipython3",
   "version": "3.5.4"
  }
 },
 "nbformat": 4,
 "nbformat_minor": 2
}
