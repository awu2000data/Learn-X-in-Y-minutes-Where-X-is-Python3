{
 "cells": [
  {
   "cell_type": "markdown",
   "metadata": {},
   "source": [
    "# Learn X in Y minutes (Where X=python3)\n",
    "**Source:** [Learn X in Y minutes (Where X=python3) — Louie Dinh](https://learnxinyminutes.com/docs/python3/)\n",
    "Table of Contents\n",
    "=================\n",
    "<!--ts-->\n",
    " * [Table of contents](#table-of-contents)\n",
    " * [0. Comments](#0-comments)\n",
    "    * [Single line comments](#single-line-comments)\n",
    "    * [Multi-line comments](#multi-line-comments)\n",
    " * [1. Primitive Datatypes and Operators](#1.-Primitive-Datatypes-and-Operators)\n",
    "    * [Number](#You-have-numbers)  \n",
    "    * [Math is what you would expect](#Math-is-what-you-would-expect)\n",
    "<!--te-->\n"
   ]
  },
  {
   "cell_type": "markdown",
   "metadata": {},
   "source": [
    "## 0. Comments\n",
    "### Single line comments\n",
    "```python\n",
    "# Single line comments start with a number symbol.\n",
    "```\n",
    "### Multi-line comments\n",
    "```python\n",
    "\"\"\" \n",
    "Multiline strings can be written\n",
    "using three \"s, and are often used\n",
    "as documentation.\n",
    "\"\"\"\n",
    "```"
   ]
  },
  {
   "cell_type": "code",
   "execution_count": 6,
   "metadata": {},
   "outputs": [],
   "source": [
    "# Single line comments start with a number symbol."
   ]
  },
  {
   "cell_type": "code",
   "execution_count": 7,
   "metadata": {},
   "outputs": [
    {
     "data": {
      "text/plain": [
       "'\\nMultiline strings can be written\\nusing three \"s, and are often used\\nas documentation.\\n'"
      ]
     },
     "execution_count": 7,
     "metadata": {},
     "output_type": "execute_result"
    }
   ],
   "source": [
    "'''\n",
    "Multiline strings can be written\n",
    "using three \"s, and are often used\n",
    "as documentation.\n",
    "'''"
   ]
  },
  {
   "cell_type": "markdown",
   "metadata": {},
   "source": [
    "## 1. Primitive Datatypes and Operators\n",
    "### You have numbers\n",
    "```python\n",
    "3  # => 3\n",
    "```"
   ]
  },
  {
   "cell_type": "code",
   "execution_count": 28,
   "metadata": {},
   "outputs": [
    {
     "name": "stdout",
     "output_type": "stream",
     "text": [
      "3\n"
     ]
    }
   ],
   "source": [
    "print(3)    # => 3"
   ]
  },
  {
   "cell_type": "markdown",
   "metadata": {},
   "source": [
    "### Math is what you would expect\n",
    "```python\n",
    "1 + 1   # => 2\n",
    "8 - 1   # => 7\n",
    "10 * 2  # => 20\n",
    "35 / 5  # => 7.0\n",
    "```"
   ]
  },
  {
   "cell_type": "code",
   "execution_count": 12,
   "metadata": {},
   "outputs": [
    {
     "name": "stdout",
     "output_type": "stream",
     "text": [
      "2\n",
      "7\n",
      "20\n",
      "7.0\n"
     ]
    }
   ],
   "source": [
    "print(1 + 1)     # => 2\n",
    "print(8 - 1)     # => 7\n",
    "print(10 * 2)    # => 20\n",
    "print(35 / 5)    # => 7.0"
   ]
  },
  {
   "cell_type": "markdown",
   "metadata": {},
   "source": [
    "### Result of integer division truncated down both for positive and negative.\n",
    "```python\n",
    "5 // 3       # => 1\n",
    "5.0 // 3.0   # => 1.0 # works on floats too\n",
    "-5 // 3      # => -2\n",
    "-5.0 // 3.0  # => -2.0\n",
    "```"
   ]
  },
  {
   "cell_type": "code",
   "execution_count": 18,
   "metadata": {},
   "outputs": [
    {
     "name": "stdout",
     "output_type": "stream",
     "text": [
      "1\n",
      "1.0\n",
      "-2\n",
      "-2.0\n"
     ]
    }
   ],
   "source": [
    "print(5 // 3)       # => 1\n",
    "print(5.0 // 3.0)   # => 1.0 # works on floats too\n",
    "print(-5 // 3)      # => -2\n",
    "print(-5.0 // 3.0)  # => -2.0"
   ]
  },
  {
   "cell_type": "markdown",
   "metadata": {},
   "source": [
    "### The result of division is always a float\n",
    "```python\n",
    "10.0 / 3  # => 3.3333333333333335\n",
    "```"
   ]
  },
  {
   "cell_type": "code",
   "execution_count": 19,
   "metadata": {},
   "outputs": [
    {
     "name": "stdout",
     "output_type": "stream",
     "text": [
      "3.3333333333333335\n"
     ]
    }
   ],
   "source": [
    "print(10.0 / 3)  # => 3.3333333333333335"
   ]
  },
  {
   "cell_type": "markdown",
   "metadata": {},
   "source": [
    "### Modulo operation\n",
    "```python\n",
    "7 % 3  # => 1\n",
    "```"
   ]
  },
  {
   "cell_type": "code",
   "execution_count": 20,
   "metadata": {},
   "outputs": [
    {
     "name": "stdout",
     "output_type": "stream",
     "text": [
      "1\n"
     ]
    }
   ],
   "source": [
    "print(7 % 3)  # => 1"
   ]
  },
  {
   "cell_type": "markdown",
   "metadata": {},
   "source": [
    "### Exponentiation (x**y, x to the yth power)\n",
    "```python \n",
    "2**3  # => 8\n",
    "```"
   ]
  },
  {
   "cell_type": "code",
   "execution_count": 21,
   "metadata": {},
   "outputs": [
    {
     "name": "stdout",
     "output_type": "stream",
     "text": [
      "8\n"
     ]
    }
   ],
   "source": [
    "print(2**3)  # => 8"
   ]
  },
  {
   "cell_type": "markdown",
   "metadata": {},
   "source": [
    "### Enforce precedence with parentheses\n",
    "```python\n",
    "(1 + 3) * 2  # => 8\n",
    "```"
   ]
  },
  {
   "cell_type": "code",
   "execution_count": 22,
   "metadata": {},
   "outputs": [
    {
     "name": "stdout",
     "output_type": "stream",
     "text": [
      "8\n"
     ]
    }
   ],
   "source": [
    "print((1 + 3) * 2)  # => 8"
   ]
  },
  {
   "cell_type": "markdown",
   "metadata": {},
   "source": [
    "### Boolean values are primitives \n",
    "**(Note: the capitalization)**\n",
    "```python\n",
    "True\n",
    "False\n",
    "```"
   ]
  },
  {
   "cell_type": "code",
   "execution_count": 24,
   "metadata": {},
   "outputs": [
    {
     "name": "stdout",
     "output_type": "stream",
     "text": [
      "True\n",
      "False\n"
     ]
    }
   ],
   "source": [
    "print(True)\n",
    "print(False)"
   ]
  },
  {
   "cell_type": "markdown",
   "metadata": {},
   "source": [
    "### negate with not\n",
    "```python\n",
    "not True   # => False\n",
    "not False  # => True\n",
    "```"
   ]
  },
  {
   "cell_type": "code",
   "execution_count": 25,
   "metadata": {},
   "outputs": [
    {
     "name": "stdout",
     "output_type": "stream",
     "text": [
      "False\n",
      "True\n"
     ]
    }
   ],
   "source": [
    "print(not True)   # => False\n",
    "print(not False)  # => True"
   ]
  },
  {
   "cell_type": "markdown",
   "metadata": {},
   "source": [
    "### Boolean Operators\n",
    "**Note \"and\" and \"or\" are case-sensitive**\n",
    "```python\n",
    "True and False  # => False\n",
    "False or True   # => True\n",
    "```"
   ]
  },
  {
   "cell_type": "code",
   "execution_count": 26,
   "metadata": {},
   "outputs": [
    {
     "name": "stdout",
     "output_type": "stream",
     "text": [
      "False\n",
      "True\n"
     ]
    }
   ],
   "source": [
    "print(True and False)  # => False\n",
    "print(False or True)   # => True"
   ]
  },
  {
   "cell_type": "markdown",
   "metadata": {},
   "source": [
    "### True and False are actually 1 and 0 but with different keywords\n",
    "```python\n",
    "True + True # => 2\n",
    "True * 8    # => 8\n",
    "False - 5   # => -5\n",
    "```"
   ]
  },
  {
   "cell_type": "code",
   "execution_count": 27,
   "metadata": {},
   "outputs": [
    {
     "name": "stdout",
     "output_type": "stream",
     "text": [
      "2\n",
      "8\n",
      "-5\n"
     ]
    }
   ],
   "source": [
    "# True and False are actually 1 and 0 but with different keywords\n",
    "print(True + True) # => 2\n",
    "print(True * 8)    # => 8\n",
    "print(False - 5)   # => -5"
   ]
  },
  {
   "cell_type": "markdown",
   "metadata": {},
   "source": [
    "### Comparison operators look at the numerical value of True and False\n",
    "```python\n",
    "0 == False  # => True\n",
    "1 == True   # => True\n",
    "2 == True   # => False\n",
    "-5 != False # => True\n",
    "```"
   ]
  },
  {
   "cell_type": "code",
   "execution_count": 29,
   "metadata": {},
   "outputs": [
    {
     "name": "stdout",
     "output_type": "stream",
     "text": [
      "True\n",
      "True\n",
      "False\n",
      "True\n"
     ]
    }
   ],
   "source": [
    "# Comparison operators look at the numerical value of True and False\n",
    "print(0 == False)  # => True\n",
    "print(1 == True)   # => True\n",
    "print(2 == True)   # => False\n",
    "print(-5 != False) # => True"
   ]
  },
  {
   "cell_type": "markdown",
   "metadata": {},
   "source": [
    "### Using boolean logical operators on ints casts them to booleans for evaluation, but their non-cast value is returned\n",
    "**Don't mix up with bool(ints) and bitwise and/or (&,|)**\n",
    "```python\n",
    "bool(0)     # => False\n",
    "bool(4)     # => True\n",
    "bool(-6)    # => True\n",
    "0 and 2     # => 0\n",
    "-5 or 0     # => -5\n",
    "```"
   ]
  },
  {
   "cell_type": "code",
   "execution_count": 30,
   "metadata": {},
   "outputs": [
    {
     "name": "stdout",
     "output_type": "stream",
     "text": [
      "False\n",
      "True\n",
      "True\n",
      "0\n",
      "-5\n"
     ]
    }
   ],
   "source": [
    "print(bool(0))     # => False\n",
    "print(bool(4))     # => True\n",
    "print(bool(-6))    # => True\n",
    "print(0 and 2)     # => 0\n",
    "print(-5 or 0)     # => -5"
   ]
  },
  {
   "cell_type": "markdown",
   "metadata": {},
   "source": [
    "### Equality is ==\n",
    "```python\n",
    "1 == 1  # => True\n",
    "2 == 1  # => False\n",
    "```"
   ]
  },
  {
   "cell_type": "code",
   "execution_count": 31,
   "metadata": {},
   "outputs": [
    {
     "name": "stdout",
     "output_type": "stream",
     "text": [
      "True\n",
      "False\n"
     ]
    }
   ],
   "source": [
    "# Equality is ==\n",
    "print(1 == 1)  # => True\n",
    "print(2 == 1)  # => False"
   ]
  },
  {
   "cell_type": "markdown",
   "metadata": {},
   "source": [
    "### Inequality is !=\n",
    "```python\n",
    "1 != 1  # => False\n",
    "2 != 1  # => True\n",
    "```"
   ]
  },
  {
   "cell_type": "code",
   "execution_count": 32,
   "metadata": {},
   "outputs": [
    {
     "name": "stdout",
     "output_type": "stream",
     "text": [
      "False\n",
      "True\n"
     ]
    }
   ],
   "source": [
    "# Inequality is !=\n",
    "print(1 != 1)  # => False\n",
    "print(2 != 1)  # => True"
   ]
  },
  {
   "cell_type": "markdown",
   "metadata": {},
   "source": [
    "### More comparisons\n",
    "```python\n",
    "1 < 10  # => True\n",
    "1 > 10  # => False\n",
    "2 <= 2  # => True\n",
    "2 >= 2  # => True\n",
    "```"
   ]
  },
  {
   "cell_type": "code",
   "execution_count": 34,
   "metadata": {},
   "outputs": [
    {
     "name": "stdout",
     "output_type": "stream",
     "text": [
      "True\n",
      "False\n",
      "True\n",
      "True\n"
     ]
    }
   ],
   "source": [
    "# More comparisons\n",
    "print(1 < 10)  # => True\n",
    "print(1 > 10)  # => False\n",
    "print(2 <= 2)  # => True\n",
    "print(2 >= 2)  # => True"
   ]
  },
  {
   "cell_type": "markdown",
   "metadata": {},
   "source": [
    "### Seeing whether a value is in a range\n",
    "```python\n",
    "1 < 2 and 2 < 3  # => True\n",
    "2 < 3 and 3 < 2  # => False\n",
    "```"
   ]
  },
  {
   "cell_type": "code",
   "execution_count": 35,
   "metadata": {},
   "outputs": [
    {
     "name": "stdout",
     "output_type": "stream",
     "text": [
      "True\n",
      "False\n"
     ]
    }
   ],
   "source": [
    "# Seeing whether a value is in a range\n",
    "print(1 < 2 and 2 < 3)  # => True\n",
    "print(2 < 3 and 3 < 2)  # => False"
   ]
  },
  {
   "cell_type": "markdown",
   "metadata": {},
   "source": [
    "### Chaining makes this look nicer\n",
    "```python\n",
    "1 < 2 < 3  # => True\n",
    "2 < 3 < 2  # => False\n",
    "```"
   ]
  },
  {
   "cell_type": "code",
   "execution_count": 37,
   "metadata": {},
   "outputs": [
    {
     "name": "stdout",
     "output_type": "stream",
     "text": [
      "True\n",
      "False\n"
     ]
    }
   ],
   "source": [
    "# Chaining makes this look nicer\n",
    "print(1 < 2 < 3)  # => True\n",
    "print(2 < 3 < 2)  # => False"
   ]
  },
  {
   "cell_type": "markdown",
   "metadata": {},
   "source": [
    "### (is vs. ==) is checks if two variables refer to the same object, but == checks if the objects pointed to have the same values.\n",
    "```python\n",
    "a = [1, 2, 3, 4]  # Point a at a new list, [1, 2, 3, 4]\n",
    "b = a             # Point b at what a is pointing to\n",
    "b is a            # => True, a and b refer to the same object\n",
    "b == a            # => True, a's and b's objects are equal\n",
    "b = [1, 2, 3, 4]  # Point b at a new list, [1, 2, 3, 4]\n",
    "b is a            # => False, a and b do not refer to the same object\n",
    "b == a            # => True, a's and b's objects are equal\n",
    "```"
   ]
  },
  {
   "cell_type": "code",
   "execution_count": 38,
   "metadata": {},
   "outputs": [
    {
     "name": "stdout",
     "output_type": "stream",
     "text": [
      "True\n",
      "True\n",
      "False\n",
      "True\n"
     ]
    }
   ],
   "source": [
    "# (is vs. ==) is checks if two variables refer to the same object, but == checks\n",
    "# if the objects pointed to have the same values.\n",
    "a = [1, 2, 3, 4]  # Point a at a new list, [1, 2, 3, 4]\n",
    "b = a             # Point b at what a is pointing to\n",
    "print(b is a)     # => True, a and b refer to the same object\n",
    "print(b == a)     # => True, a's and b's objects are equal\n",
    "b = [1, 2, 3, 4]  # Point b at a new list, [1, 2, 3, 4]\n",
    "print(b is a)     # => False, a and b do not refer to the same object\n",
    "print(b == a)     # => True, a's and b's objects are equal"
   ]
  },
  {
   "cell_type": "markdown",
   "metadata": {},
   "source": [
    "### Strings are created with \" or '\n",
    "```python\n",
    "\"This is a string.\"\n",
    "'This is also a string.'\n",
    "```"
   ]
  },
  {
   "cell_type": "code",
   "execution_count": 39,
   "metadata": {},
   "outputs": [
    {
     "data": {
      "text/plain": [
       "'This is also a string.'"
      ]
     },
     "execution_count": 39,
     "metadata": {},
     "output_type": "execute_result"
    }
   ],
   "source": [
    "# Strings are created with \" or '\n",
    "\"This is a string.\"\n",
    "'This is also a string.'"
   ]
  },
  {
   "cell_type": "markdown",
   "metadata": {},
   "source": [
    "### Strings can be added too! But try not to do this.\n",
    "```python\n",
    "\"Hello \" + \"world!\"  # => \"Hello world!\"\n",
    "```"
   ]
  },
  {
   "cell_type": "code",
   "execution_count": 40,
   "metadata": {},
   "outputs": [
    {
     "name": "stdout",
     "output_type": "stream",
     "text": [
      "Hello world!\n"
     ]
    }
   ],
   "source": [
    "# Strings can be added too! But try not to do this.\n",
    "print(\"Hello \" + \"world!\")  # => \"Hello world!\""
   ]
  },
  {
   "cell_type": "markdown",
   "metadata": {},
   "source": [
    "### String literals (but not variables) can be concatenated without using '+'\n",
    "```python\n",
    "\"Hello \" \"world!\"    # => \"Hello world!\"\n",
    "```"
   ]
  },
  {
   "cell_type": "code",
   "execution_count": 41,
   "metadata": {},
   "outputs": [
    {
     "name": "stdout",
     "output_type": "stream",
     "text": [
      "Hello world!\n"
     ]
    }
   ],
   "source": [
    "# String literals (but not variables) can be concatenated without using '+'\n",
    "print(\"Hello \" \"world!\")    # => \"Hello world!\""
   ]
  },
  {
   "cell_type": "markdown",
   "metadata": {},
   "source": [
    "### A string can be treated like a list of characters\n",
    "```python\n",
    "\"This is a string\"[0]  # => 'T'\n",
    "```"
   ]
  },
  {
   "cell_type": "code",
   "execution_count": 42,
   "metadata": {},
   "outputs": [
    {
     "name": "stdout",
     "output_type": "stream",
     "text": [
      "T\n"
     ]
    }
   ],
   "source": [
    "# A string can be treated like a list of characters\n",
    "print(\"This is a string\"[0])  # => 'T'"
   ]
  },
  {
   "cell_type": "markdown",
   "metadata": {},
   "source": [
    "### You can find the length of a string\n",
    "```python\n",
    "len(\"This is a string\")  # => 16\n",
    "```"
   ]
  },
  {
   "cell_type": "code",
   "execution_count": 43,
   "metadata": {},
   "outputs": [
    {
     "name": "stdout",
     "output_type": "stream",
     "text": [
      "16\n"
     ]
    }
   ],
   "source": [
    "# You can find the length of a string\n",
    "print(len(\"This is a string\"))  # => 16"
   ]
  },
  {
   "cell_type": "markdown",
   "metadata": {},
   "source": [
    "### .format can be used to format strings, like this:\n",
    "```python\n",
    "\"{} can be {}\".format(\"Strings\", \"interpolated\")  # => \"Strings can be interpolated\"\n",
    "```"
   ]
  },
  {
   "cell_type": "code",
   "execution_count": 44,
   "metadata": {},
   "outputs": [
    {
     "name": "stdout",
     "output_type": "stream",
     "text": [
      "Strings can be interpolated\n"
     ]
    }
   ],
   "source": [
    "# .format can be used to format strings, like this:\n",
    "x = \"{} can be {}\".format(\"Strings\", \"interpolated\")  # => \"Strings can be interpolated\"\n",
    "print(x)"
   ]
  },
  {
   "cell_type": "markdown",
   "metadata": {},
   "source": [
    "### You can repeat the formatting arguments to save some typing.\n",
    "```python\n",
    "\"{0} be nimble, {0} be quick, {0} jump over the {1}\".format(\"Jack\", \"candle stick\")\n",
    "    # => \"Jack be nimble, Jack be quick, Jack jump over the candle stick\"\n",
    "    ```"
   ]
  },
  {
   "cell_type": "code",
   "execution_count": 45,
   "metadata": {},
   "outputs": [
    {
     "name": "stdout",
     "output_type": "stream",
     "text": [
      "Jack be nimble, Jack be quick, Jack jump over the candle stick\n"
     ]
    }
   ],
   "source": [
    "# You can repeat the formatting arguments to save some typing.\n",
    "x = \"{0} be nimble, {0} be quick, {0} jump over the {1}\".format(\"Jack\", \"candle stick\")\n",
    "# => \"Jack be nimble, Jack be quick, Jack jump over the candle stick\"\n",
    "print(x)"
   ]
  },
  {
   "cell_type": "markdown",
   "metadata": {},
   "source": [
    "### You can use keywords if you don't want to count.\n",
    "```python\n",
    "\"{name} wants to eat {food}\".format(name=\"Bob\", food=\"lasagna\")  # => \"Bob wants to eat lasagna\"\n",
    "```"
   ]
  },
  {
   "cell_type": "code",
   "execution_count": 46,
   "metadata": {},
   "outputs": [
    {
     "name": "stdout",
     "output_type": "stream",
     "text": [
      "Bob wants to eat lasagna\n"
     ]
    }
   ],
   "source": [
    "# You can use keywords if you don't want to count.\n",
    "x = \"{name} wants to eat {food}\".format(name=\"Bob\", food=\"lasagna\")  # => \"Bob wants to eat lasagna\"\n",
    "print(x)"
   ]
  },
  {
   "cell_type": "markdown",
   "metadata": {},
   "source": [
    "### If your Python 3 code also needs to run on Python 2.5 and below, \n",
    "**you can also still use the old style of formatting:**\n",
    "```python\n",
    "\"%s can be %s the %s way\" % (\"Strings\", \"interpolated\", \"old\")  \n",
    "# => \"Strings can be interpolated the old way\"\n",
    "```"
   ]
  },
  {
   "cell_type": "code",
   "execution_count": 50,
   "metadata": {},
   "outputs": [
    {
     "name": "stdout",
     "output_type": "stream",
     "text": [
      "Strings can be interpolated the old way\n"
     ]
    }
   ],
   "source": [
    "# If your Python 3 code also needs to run on Python 2.5 and below, you can also\n",
    "# still use the old style of formatting:\n",
    "print(\"%s can be %s the %s way\" % (\"Strings\", \"interpolated\", \"old\"))  \n",
    "# => \"Strings can be interpolated the old way\""
   ]
  },
  {
   "cell_type": "markdown",
   "metadata": {},
   "source": [
    "### You can also format using f-strings or formatted string literals (in Python 3.6+)\n",
    "```python\n",
    "name = \"Reiko\"\n",
    "f\"She said her name is {name}.\" # => \"She said her name is Reiko\"\n",
    "```"
   ]
  },
  {
   "cell_type": "code",
   "execution_count": 52,
   "metadata": {},
   "outputs": [
    {
     "ename": "SyntaxError",
     "evalue": "invalid syntax (<ipython-input-52-0d0ca6ec860c>, line 3)",
     "output_type": "error",
     "traceback": [
      "\u001b[0;36m  File \u001b[0;32m\"<ipython-input-52-0d0ca6ec860c>\"\u001b[0;36m, line \u001b[0;32m3\u001b[0m\n\u001b[0;31m    print(f\"She said her name is {name}.\") # => \"She said her name is Reiko\"\u001b[0m\n\u001b[0m                                        ^\u001b[0m\n\u001b[0;31mSyntaxError\u001b[0m\u001b[0;31m:\u001b[0m invalid syntax\n"
     ]
    }
   ],
   "source": [
    "# You can also format using f-strings or formatted string literals (in Python 3.6+)\n",
    "name = \"Reiko\"\n",
    "x = f\"She said her name is {name}.\" # => \"She said her name is Reiko\"\n",
    "print(x)"
   ]
  },
  {
   "cell_type": "markdown",
   "metadata": {},
   "source": [
    "### You can basically put any Python statement inside the braces and it will be output in the string. (Python 3.6+)\n",
    "```python\n",
    "f\"{name} is {len(name)} characters long.\"\n",
    "```"
   ]
  },
  {
   "cell_type": "code",
   "execution_count": 54,
   "metadata": {},
   "outputs": [
    {
     "ename": "SyntaxError",
     "evalue": "invalid syntax (<ipython-input-54-93ed4ad39e17>, line 3)",
     "output_type": "error",
     "traceback": [
      "\u001b[0;36m  File \u001b[0;32m\"<ipython-input-54-93ed4ad39e17>\"\u001b[0;36m, line \u001b[0;32m3\u001b[0m\n\u001b[0;31m    x = f\"{name} is {len(name)} characters long.\"\u001b[0m\n\u001b[0m                                                ^\u001b[0m\n\u001b[0;31mSyntaxError\u001b[0m\u001b[0;31m:\u001b[0m invalid syntax\n"
     ]
    }
   ],
   "source": [
    "# You can basically put any Python statement inside the braces and it will be output in the string.\n",
    "name = \"Reiko\"\n",
    "x = f\"{name} is {len(name)} characters long.\"\n",
    "print(x)"
   ]
  },
  {
   "cell_type": "markdown",
   "metadata": {},
   "source": [
    "### None is an object\n",
    "```python\n",
    "None  # => None\n",
    "```"
   ]
  },
  {
   "cell_type": "code",
   "execution_count": 55,
   "metadata": {},
   "outputs": [
    {
     "name": "stdout",
     "output_type": "stream",
     "text": [
      "None\n"
     ]
    }
   ],
   "source": [
    "print(None)"
   ]
  },
  {
   "cell_type": "markdown",
   "metadata": {},
   "source": [
    "### Don't use the equality \"==\" symbol to compare objects to None\n",
    "**Use \"is\" instead. This checks for equality of object identity.**\n",
    "```python\n",
    "\"etc\" is None  # => False\n",
    "None is None   # => True\n",
    "```"
   ]
  },
  {
   "cell_type": "code",
   "execution_count": 57,
   "metadata": {},
   "outputs": [
    {
     "name": "stdout",
     "output_type": "stream",
     "text": [
      "False\n",
      "True\n"
     ]
    }
   ],
   "source": [
    "# Don't use the equality \"==\" symbol to compare objects to None\n",
    "# Use \"is\" instead. This checks for equality of object identity.\n",
    "print(\"etc\" is None)  # => False\n",
    "print(None is None)   # => True"
   ]
  },
  {
   "cell_type": "markdown",
   "metadata": {},
   "source": [
    "### None, 0, and empty strings/lists/dicts/tuples all evaluate to False.\n",
    "**All other values are True**\n",
    "```python\n",
    "bool(0)   # => False\n",
    "bool(\"\")  # => False\n",
    "bool([])  # => False\n",
    "bool({})  # => False\n",
    "bool(())  # => False\n",
    "```"
   ]
  },
  {
   "cell_type": "code",
   "execution_count": 58,
   "metadata": {},
   "outputs": [
    {
     "name": "stdout",
     "output_type": "stream",
     "text": [
      "False\n",
      "False\n",
      "False\n",
      "False\n",
      "False\n"
     ]
    }
   ],
   "source": [
    "# None, 0, and empty strings/lists/dicts/tuples all evaluate to False.\n",
    "# All other values are True\n",
    "print(bool(0))   # => False\n",
    "print(bool(\"\"))  # => False\n",
    "print(bool([]))  # => False\n",
    "print(bool({}))  # => False\n",
    "print(bool(()))  # => False"
   ]
  },
  {
   "cell_type": "code",
   "execution_count": null,
   "metadata": {},
   "outputs": [],
   "source": []
  }
 ],
 "metadata": {
  "kernelspec": {
   "display_name": "Python 3",
   "language": "python",
   "name": "python3"
  },
  "language_info": {
   "codemirror_mode": {
    "name": "ipython",
    "version": 3
   },
   "file_extension": ".py",
   "mimetype": "text/x-python",
   "name": "python",
   "nbconvert_exporter": "python",
   "pygments_lexer": "ipython3",
   "version": "3.5.4"
  }
 },
 "nbformat": 4,
 "nbformat_minor": 2
}
